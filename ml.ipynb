{
 "cells": [
  {
   "cell_type": "code",
   "execution_count": 1,
   "id": "e2d94a65-2cb6-48bd-bb23-0664f1f5f2e4",
   "metadata": {},
   "outputs": [
    {
     "name": "stdout",
     "output_type": "stream",
     "text": [
      "hello\n"
     ]
    }
   ],
   "source": [
    "print(\"hello\")"
   ]
  },
  {
   "cell_type": "code",
   "execution_count": 6,
   "id": "b501df76-a884-481d-af54-f50d4d49c451",
   "metadata": {},
   "outputs": [
    {
     "name": "stdout",
     "output_type": "stream",
     "text": [
      "[9, 90, 'like', 90.7, True, 'like']\n"
     ]
    }
   ],
   "source": [
    "#COLLECTIONS\n",
    "#list #mutable,heterogenous,accepts duplicates\n",
    "list1=[9,90,'like',90.7,True,'like']\n",
    "print(list1)"
   ]
  },
  {
   "cell_type": "code",
   "execution_count": 7,
   "id": "cbb1b7ba-7b94-454b-b2b6-9e953ecc50ea",
   "metadata": {},
   "outputs": [
    {
     "name": "stdout",
     "output_type": "stream",
     "text": [
      "[9, 90, 'like', 90.7, True, 'like']\n",
      "True\n"
     ]
    }
   ],
   "source": [
    "list1=[9,90,'like',90.7,True,'like']\n",
    "print(list1)\n",
    "print(list1[4])"
   ]
  },
  {
   "cell_type": "code",
   "execution_count": 8,
   "id": "f4fd98ea-a66c-45fc-b09b-81cc71438f67",
   "metadata": {},
   "outputs": [
    {
     "name": "stdout",
     "output_type": "stream",
     "text": [
      "[9, 90, 'like', 90.7, True, 'like', 'shree']\n"
     ]
    }
   ],
   "source": [
    "list1.append('shree')\n",
    "print(list1)"
   ]
  },
  {
   "cell_type": "code",
   "execution_count": 9,
   "id": "d4a0861a-7c5b-46c3-8433-8b39776f26a4",
   "metadata": {},
   "outputs": [
    {
     "name": "stdout",
     "output_type": "stream",
     "text": [
      "[9, 90, 'like', 90.7, 'suma', True, 'like', 'shree']\n"
     ]
    }
   ],
   "source": [
    "list1.insert(4,'suma') #insert(index,element)\n",
    "print(list1)"
   ]
  },
  {
   "cell_type": "code",
   "execution_count": 10,
   "id": "d3e7d929-5279-4aee-a19c-71437261caad",
   "metadata": {},
   "outputs": [
    {
     "data": {
      "text/plain": [
       "[]"
      ]
     },
     "execution_count": 10,
     "metadata": {},
     "output_type": "execute_result"
    }
   ],
   "source": [
    "list1.clear()\n",
    "list1"
   ]
  },
  {
   "cell_type": "code",
   "execution_count": 11,
   "id": "4369e21f-908e-4ce4-be72-c11714ab2447",
   "metadata": {},
   "outputs": [
    {
     "name": "stdout",
     "output_type": "stream",
     "text": [
      "[90, 45, 49, 95, 98, 34, 66, 77]\n"
     ]
    }
   ],
   "source": [
    "list2=[90,45,49,95]\n",
    "list3=[98,34,66,77]\n",
    "print(list2+list3+list1)"
   ]
  },
  {
   "cell_type": "code",
   "execution_count": 12,
   "id": "32e48a1e-24bd-4a63-997f-3c7c7c4fdfb3",
   "metadata": {},
   "outputs": [
    {
     "name": "stdout",
     "output_type": "stream",
     "text": [
      "None\n"
     ]
    }
   ],
   "source": [
    "print(list2.extend(list3))"
   ]
  },
  {
   "cell_type": "code",
   "execution_count": 13,
   "id": "65a2e897-b49a-4d05-ae21-bf1a8f7fba1c",
   "metadata": {},
   "outputs": [
    {
     "data": {
      "text/plain": [
       "[34, 66, 77, 98]"
      ]
     },
     "execution_count": 13,
     "metadata": {},
     "output_type": "execute_result"
    }
   ],
   "source": [
    "list3.sort() \n",
    "list3"
   ]
  },
  {
   "cell_type": "code",
   "execution_count": 14,
   "id": "f26a5f8f-4c84-4c66-8c65-229d2498a926",
   "metadata": {},
   "outputs": [
    {
     "data": {
      "text/plain": [
       "[99, 45, 12, 103, 46]"
      ]
     },
     "execution_count": 14,
     "metadata": {},
     "output_type": "execute_result"
    }
   ],
   "source": [
    "list6 = [99,45,12,103,46]\n",
    "sorted(list6)\n",
    "list6"
   ]
  },
  {
   "cell_type": "code",
   "execution_count": 15,
   "id": "0179fc35-af54-4826-9d0e-e294d12da81e",
   "metadata": {},
   "outputs": [
    {
     "data": {
      "text/plain": [
       "[12, 45, 46, 99, 103]"
      ]
     },
     "execution_count": 15,
     "metadata": {},
     "output_type": "execute_result"
    }
   ],
   "source": [
    "list6 = [99,45,12,103,46]\n",
    "list7 = sorted(list6) #changes are not reflected in original list\n",
    "list7 #need to save the changes in different list"
   ]
  },
  {
   "cell_type": "code",
   "execution_count": 16,
   "id": "3eee9b14-8ac6-4f3d-a507-b428b70368a8",
   "metadata": {},
   "outputs": [
    {
     "data": {
      "text/plain": [
       "[99, 45, 12, 103, 46]"
      ]
     },
     "execution_count": 16,
     "metadata": {},
     "output_type": "execute_result"
    }
   ],
   "source": [
    "list6"
   ]
  },
  {
   "cell_type": "code",
   "execution_count": 17,
   "id": "cca08a7b-387f-4e7a-8fa0-f1ff84f62b38",
   "metadata": {},
   "outputs": [
    {
     "name": "stdout",
     "output_type": "stream",
     "text": [
      "9801\n",
      "2025\n",
      "144\n",
      "10609\n",
      "2116\n"
     ]
    }
   ],
   "source": [
    "for i in list6:\n",
    "    print(i*i)"
   ]
  },
  {
   "cell_type": "code",
   "execution_count": 18,
   "id": "61903a9b-83df-4722-ba3b-e73c5a119a83",
   "metadata": {},
   "outputs": [],
   "source": [
    "#newlist = [output for listname]\n",
    "listnew = [i*i for i in list6]"
   ]
  },
  {
   "cell_type": "code",
   "execution_count": 19,
   "id": "e3f5655b-3fbb-4e9f-a93e-8bf621301b96",
   "metadata": {},
   "outputs": [
    {
     "data": {
      "text/plain": [
       "[9801, 2025, 144, 10609, 2116]"
      ]
     },
     "execution_count": 19,
     "metadata": {},
     "output_type": "execute_result"
    }
   ],
   "source": [
    "listnew"
   ]
  },
  {
   "cell_type": "code",
   "execution_count": 20,
   "id": "655f51e9-014c-45a5-9915-7a253d3b9fca",
   "metadata": {},
   "outputs": [
    {
     "name": "stdout",
     "output_type": "stream",
     "text": [
      "1.0\n",
      "1.0\n",
      "1.0\n",
      "1.0\n",
      "1.0\n"
     ]
    }
   ],
   "source": [
    "for i in list6:\n",
    "    print(i/i)"
   ]
  },
  {
   "cell_type": "code",
   "execution_count": 21,
   "id": "6d59021b-8924-4b01-9023-2aa37bfa3816",
   "metadata": {},
   "outputs": [
    {
     "data": {
      "text/plain": [
       "[1.0, 1.0, 1.0, 1.0, 1.0]"
      ]
     },
     "execution_count": 21,
     "metadata": {},
     "output_type": "execute_result"
    }
   ],
   "source": [
    "listnew=[i/i for i in list6]\n",
    "listnew"
   ]
  },
  {
   "cell_type": "code",
   "execution_count": 23,
   "id": "980292ba-c94c-485a-8916-a25ca23c9ffb",
   "metadata": {},
   "outputs": [
    {
     "data": {
      "text/plain": [
       "[198, 90, 24, 206, 92]"
      ]
     },
     "execution_count": 23,
     "metadata": {},
     "output_type": "execute_result"
    }
   ],
   "source": [
    "listnew=[i*2 for i in list6]\n",
    "listnew"
   ]
  },
  {
   "cell_type": "code",
   "execution_count": 24,
   "id": "eb2d25db-962e-4a5b-9d5e-57037009c026",
   "metadata": {},
   "outputs": [
    {
     "data": {
      "text/plain": [
       "[9801, 2025, 144, 10609, 2116]"
      ]
     },
     "execution_count": 24,
     "metadata": {},
     "output_type": "execute_result"
    }
   ],
   "source": [
    "squr=[]\n",
    "for i in list6:\n",
    "    squr.append(i*i)\n",
    "squr"
   ]
  },
  {
   "cell_type": "code",
   "execution_count": 25,
   "id": "82dcb8f5-0d61-405b-8741-5fff2ced3ee3",
   "metadata": {},
   "outputs": [],
   "source": [
    "s=[]\n",
    "for i in list6:\n",
    "    if i > 50:\n",
    "        s.append(i*i)"
   ]
  },
  {
   "cell_type": "code",
   "execution_count": 26,
   "id": "519fcd0e-b53f-4cf9-9b2d-60bf9b8ed127",
   "metadata": {},
   "outputs": [
    {
     "data": {
      "text/plain": [
       "[9801, 10609]"
      ]
     },
     "execution_count": 26,
     "metadata": {},
     "output_type": "execute_result"
    }
   ],
   "source": [
    "s"
   ]
  },
  {
   "cell_type": "code",
   "execution_count": 27,
   "id": "74d6b252-3a8f-4e32-872e-feaae60e0e6f",
   "metadata": {},
   "outputs": [],
   "source": [
    "#newlist = [output for if]\n",
    "scl=[i*i for i in list6 if i>50]"
   ]
  },
  {
   "cell_type": "code",
   "execution_count": 28,
   "id": "a3aeb8a2-074f-4a62-a59e-ea3a4422f1bf",
   "metadata": {},
   "outputs": [
    {
     "data": {
      "text/plain": [
       "[9801, 10609]"
      ]
     },
     "execution_count": 28,
     "metadata": {},
     "output_type": "execute_result"
    }
   ],
   "source": [
    "scl"
   ]
  },
  {
   "cell_type": "code",
   "execution_count": 31,
   "id": "51188dec-8652-42fe-9993-b4a0d2210191",
   "metadata": {},
   "outputs": [],
   "source": [
    "marks=[92,78,89,98,100]\n",
    "grades=[]\n",
    "\n",
    "for i in marks:\n",
    "    if i>90:\n",
    "        grades.append(\"A\") #body of if\n",
    "    else:\n",
    "        grades.append(\"B\") #body of else"
   ]
  },
  {
   "cell_type": "code",
   "execution_count": 32,
   "id": "c8aa7cf7-985d-425a-a5e5-c19baa767edd",
   "metadata": {},
   "outputs": [
    {
     "data": {
      "text/plain": [
       "['A', 'B', 'B', 'A', 'A']"
      ]
     },
     "execution_count": 32,
     "metadata": {},
     "output_type": "execute_result"
    }
   ],
   "source": [
    "grades"
   ]
  },
  {
   "cell_type": "code",
   "execution_count": 33,
   "id": "259116c7-f49d-479c-b732-3a30d8e8b719",
   "metadata": {},
   "outputs": [],
   "source": [
    "#newlist = [(body of if) (if condition) (else) (body of else) for]\n",
    "gradeslc = [\"A\" if i>90 else \"B\" for i in marks]"
   ]
  },
  {
   "cell_type": "code",
   "execution_count": 34,
   "id": "4bff36ce-39c7-48f4-893f-2ae6c295581d",
   "metadata": {},
   "outputs": [
    {
     "data": {
      "text/plain": [
       "['A', 'B', 'B', 'A', 'A']"
      ]
     },
     "execution_count": 34,
     "metadata": {},
     "output_type": "execute_result"
    }
   ],
   "source": [
    "gradeslc"
   ]
  },
  {
   "cell_type": "code",
   "execution_count": null,
   "id": "0576a5a8-d970-4f49-96de-d64a9f50fb07",
   "metadata": {},
   "outputs": [],
   "source": [
    "if the salary is more than 50000,reduce 10% tax else reduce 5% tax and save remaining salary in a new list"
   ]
  },
  {
   "cell_type": "code",
   "execution_count": 36,
   "id": "137769c2-9eba-4a0f-999e-246443051f67",
   "metadata": {},
   "outputs": [],
   "source": [
    "sal = [19000,78000,10000,56000,45000,12000]\n",
    "fsal = []\n",
    "for i in sal:\n",
    "    if i>50000:\n",
    "        #sal - sal*10%\n",
    "        fsal.append(i-i*0.1)\n",
    "    else:\n",
    "        #sal - sal*5%\n",
    "        fsal.append(i-i*0.05)\n",
    "        \n",
    "        \n"
   ]
  },
  {
   "cell_type": "code",
   "execution_count": 37,
   "id": "2e93e263-dc5c-4de5-8eea-c790217ff6d8",
   "metadata": {},
   "outputs": [
    {
     "data": {
      "text/plain": [
       "[18050.0, 70200.0, 9500.0, 50400.0, 42750.0, 11400.0]"
      ]
     },
     "execution_count": 37,
     "metadata": {},
     "output_type": "execute_result"
    }
   ],
   "source": [
    "fsal"
   ]
  },
  {
   "cell_type": "code",
   "execution_count": 39,
   "id": "01c3bd61-5de3-45b7-bd63-f44fd6402178",
   "metadata": {},
   "outputs": [
    {
     "name": "stdout",
     "output_type": "stream",
     "text": [
      "18050.0\n",
      "70200.0\n",
      "9500.0\n",
      "50400.0\n",
      "42750.0\n",
      "11400.0\n"
     ]
    }
   ],
   "source": [
    "for i in fsal:\n",
    "    print(i)"
   ]
  },
  {
   "cell_type": "code",
   "execution_count": 40,
   "id": "db4cf199-bdae-40a8-b1ea-92e3ad30b5ad",
   "metadata": {},
   "outputs": [
    {
     "data": {
      "text/plain": [
       "[18050.0, 70200.0, 9500.0, 50400.0, 42750.0, 11400.0]"
      ]
     },
     "execution_count": 40,
     "metadata": {},
     "output_type": "execute_result"
    }
   ],
   "source": [
    "com=[i-i*0.1 if i>=50000 else i-i*0.05 for i in sal]\n",
    "com"
   ]
  },
  {
   "cell_type": "code",
   "execution_count": 41,
   "id": "23ecc9eb-b09d-4c5d-b63b-21195cf32198",
   "metadata": {},
   "outputs": [
    {
     "name": "stdout",
     "output_type": "stream",
     "text": [
      "179\n",
      "90\n",
      "35\n",
      "35\n",
      "190\n"
     ]
    }
   ],
   "source": [
    "list2 = [90,45,23,12,91]\n",
    "list4 = [89,45,12,23,99]\n",
    "\n",
    "for i,j in zip(list2,list4):\n",
    "    print(i+j)"
   ]
  },
  {
   "cell_type": "code",
   "execution_count": 42,
   "id": "5b7b6d65-736f-48a7-add9-30457fbfe866",
   "metadata": {},
   "outputs": [],
   "source": [
    "#tuple (duplicate)\n",
    "tup1 = (34,'hello',90,'hi',90.6)\n"
   ]
  },
  {
   "cell_type": "code",
   "execution_count": 43,
   "id": "84781949-1cf9-475e-bc7e-fc03cf1dc927",
   "metadata": {},
   "outputs": [
    {
     "data": {
      "text/plain": [
       "(34, 'hello', 90, 'hi', 90.6)"
      ]
     },
     "execution_count": 43,
     "metadata": {},
     "output_type": "execute_result"
    }
   ],
   "source": [
    "tup1"
   ]
  },
  {
   "cell_type": "code",
   "execution_count": 44,
   "id": "ceeda116-e206-469c-a4fc-bb7b903ecc30",
   "metadata": {},
   "outputs": [
    {
     "name": "stdout",
     "output_type": "stream",
     "text": [
      "90\n",
      "45\n",
      "3\n"
     ]
    }
   ],
   "source": [
    "tup2=(90,45,67)\n",
    "print(max(tup2))\n",
    "print(min(tup2))\n",
    "print(len(tup2))"
   ]
  },
  {
   "cell_type": "code",
   "execution_count": 45,
   "id": "ab511426-dcbb-4e84-893b-2f9da9e157ed",
   "metadata": {},
   "outputs": [],
   "source": [
    "tup3=sorted(tup2)"
   ]
  },
  {
   "cell_type": "code",
   "execution_count": 46,
   "id": "ea642be7-9bdc-4801-a76f-6e95c0b908e2",
   "metadata": {},
   "outputs": [
    {
     "data": {
      "text/plain": [
       "[45, 67, 90]"
      ]
     },
     "execution_count": 46,
     "metadata": {},
     "output_type": "execute_result"
    }
   ],
   "source": [
    "tup3"
   ]
  },
  {
   "cell_type": "code",
   "execution_count": 47,
   "id": "58a9f939-5849-4227-980e-78b95bdaa9c7",
   "metadata": {},
   "outputs": [],
   "source": [
    "#dictionary\n",
    "dict1 = {1:\"joe\",2:\"veena\",3:\"hanumanth\"}\n",
    "dict2 = {1:\"joe\",1:\"joe\",1:\"joe\"}"
   ]
  },
  {
   "cell_type": "code",
   "execution_count": 48,
   "id": "cf3bf63f-9d5d-436c-b6cb-01965cd96185",
   "metadata": {},
   "outputs": [
    {
     "data": {
      "text/plain": [
       "{1: 'joe'}"
      ]
     },
     "execution_count": 48,
     "metadata": {},
     "output_type": "execute_result"
    }
   ],
   "source": [
    "dict2"
   ]
  },
  {
   "cell_type": "code",
   "execution_count": 49,
   "id": "54a9cfb6-8b22-4897-8b4b-4596be7623b8",
   "metadata": {},
   "outputs": [],
   "source": [
    "dict2 = {'name':\"shri\",'hobbies':['eating','sleeping','movie']}"
   ]
  },
  {
   "cell_type": "code",
   "execution_count": 54,
   "id": "527ac880-d042-4dd2-9e33-decce3f5a819",
   "metadata": {},
   "outputs": [
    {
     "name": "stdout",
     "output_type": "stream",
     "text": [
      "sleeping\n"
     ]
    }
   ],
   "source": [
    "print(dict2['hobbies'][1])"
   ]
  },
  {
   "cell_type": "code",
   "execution_count": 55,
   "id": "1e0108bc-27fb-4526-8f6b-5f66038ec999",
   "metadata": {},
   "outputs": [
    {
     "data": {
      "text/plain": [
       "dict_keys(['name', 'hobbies'])"
      ]
     },
     "execution_count": 55,
     "metadata": {},
     "output_type": "execute_result"
    }
   ],
   "source": [
    "dict2.keys()"
   ]
  },
  {
   "cell_type": "code",
   "execution_count": 56,
   "id": "5a39904e-d278-40d7-8a5d-4db3e3804a9d",
   "metadata": {},
   "outputs": [
    {
     "data": {
      "text/plain": [
       "dict_values(['shri', ['eating', 'sleeping', 'movie']])"
      ]
     },
     "execution_count": 56,
     "metadata": {},
     "output_type": "execute_result"
    }
   ],
   "source": [
    "dict2.values()"
   ]
  },
  {
   "cell_type": "code",
   "execution_count": 57,
   "id": "8e4eefdb-ab7f-4789-93a8-d13785e91d26",
   "metadata": {},
   "outputs": [
    {
     "data": {
      "text/plain": [
       "dict_items([('name', 'shri'), ('hobbies', ['eating', 'sleeping', 'movie'])])"
      ]
     },
     "execution_count": 57,
     "metadata": {},
     "output_type": "execute_result"
    }
   ],
   "source": [
    "dict2.items()"
   ]
  },
  {
   "cell_type": "code",
   "execution_count": 58,
   "id": "c4f29a24-f49e-4496-a947-a1ee07aad69b",
   "metadata": {},
   "outputs": [
    {
     "name": "stdout",
     "output_type": "stream",
     "text": [
      "['eating', 'sleeping', 'movie']\n"
     ]
    }
   ],
   "source": [
    "print(dict2['hobbies'])"
   ]
  },
  {
   "cell_type": "code",
   "execution_count": 60,
   "id": "4b029fdf-3388-4c55-9274-f4b22644f20d",
   "metadata": {},
   "outputs": [
    {
     "name": "stdout",
     "output_type": "stream",
     "text": [
      "shri's hobbies are ['eating', 'sleeping', 'movie']\n"
     ]
    }
   ],
   "source": [
    "print(\"shri's hobbies are\",dict2['hobbies'])"
   ]
  },
  {
   "cell_type": "code",
   "execution_count": 61,
   "id": "25b719c3-8f6b-4a44-8a13-3487953a016d",
   "metadata": {},
   "outputs": [
    {
     "data": {
      "text/plain": [
       "[12, 34, 56, 12, 67]"
      ]
     },
     "execution_count": 61,
     "metadata": {},
     "output_type": "execute_result"
    }
   ],
   "source": [
    "#set\n",
    "s1=[12,34,56,12,67]\n",
    "s1"
   ]
  },
  {
   "cell_type": "code",
   "execution_count": null,
   "id": "a0a9005b-26be-4b8a-bc73-739e6b5ca06d",
   "metadata": {},
   "outputs": [],
   "source": []
  }
 ],
 "metadata": {
  "kernelspec": {
   "display_name": "Python 3 (ipykernel)",
   "language": "python",
   "name": "python3"
  },
  "language_info": {
   "codemirror_mode": {
    "name": "ipython",
    "version": 3
   },
   "file_extension": ".py",
   "mimetype": "text/x-python",
   "name": "python",
   "nbconvert_exporter": "python",
   "pygments_lexer": "ipython3",
   "version": "3.11.7"
  }
 },
 "nbformat": 4,
 "nbformat_minor": 5
}
